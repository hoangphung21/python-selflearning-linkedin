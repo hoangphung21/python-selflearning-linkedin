{
 "cells": [
  {
   "cell_type": "code",
   "execution_count": 1,
   "id": "77f4113f",
   "metadata": {},
   "outputs": [],
   "source": [
    "import matplotlib.pyplot as plt"
   ]
  },
  {
   "cell_type": "code",
   "execution_count": 11,
   "id": "92e74d15",
   "metadata": {},
   "outputs": [
    {
     "data": {
      "image/png": "[encoded data removed]",
      "text/plain": [
       "<Figure size 504x360 with 1 Axes>"
      ]
     },
     "metadata": {
      "needs_background": "light"
     },
     "output_type": "display_data"
    }
   ],
   "source": [
    "fig = plt.figure(figsize=(7,5))\n",
    "\n",
    "name = [\"Henry\",\"Dennis\",\"Plato\",\"Jupiter\"]\n",
    "scores = [89,90,67,89]\n",
    "positions =[0,1,2,3]\n",
    "scores2 = [78,90,45,69]\n",
    "positions2 =[0.3,1.3,2.3,3.3]\n",
    "positions3 =[0.15,1.15,2.15,3.15]\n",
    "\n",
    "\n",
    "plt.bar(positions,scores,width=0.3,color=\"red\")\n",
    "plt.bar(positions2,scores2,width=0.3,color='green')\n",
    "\n",
    "\n",
    "plt.xticks(positions3,name)\n",
    "\n",
    "\n",
    "plt.show()"
   ]
  },
  {
   "cell_type": "code",
   "execution_count": null,
   "id": "f99533e6",
   "metadata": {},
   "outputs": [],
   "source": []
  }
 ],
 "metadata": {
  "kernelspec": {
   "display_name": "Python 3",
   "language": "python",
   "name": "python3"
  },
  "language_info": {
   "codemirror_mode": {
    "name": "ipython",
    "version": 3
   },
   "file_extension": ".py",
   "mimetype": "text/x-python",
   "name": "python",
   "nbconvert_exporter": "python",
   "pygments_lexer": "ipython3",
   "version": "3.8.8"
  }
 },
 "nbformat": 4,
 "nbformat_minor": 5
}
